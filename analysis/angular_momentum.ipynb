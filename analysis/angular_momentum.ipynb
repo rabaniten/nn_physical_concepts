{
 "cells": [
  {
   "cell_type": "code",
   "execution_count": 1,
   "metadata": {},
   "outputs": [],
   "source": [
    "import sys\n",
    "sys.path.append('/Users/raban/Documents/PHD/Teaching/Patrick (reading out equations)/nn_physical_concepts')\n",
    "import numpy as np\n",
    "import matplotlib.pyplot as plt\n",
    "from mpl_toolkits.mplot3d import Axes3D\n",
    "from matplotlib import cm\n",
    "from scinet import *\n",
    "import scinet.ed_collision as edc"
   ]
  },
  {
   "cell_type": "markdown",
   "metadata": {},
   "source": [
    "### Plotting functions"
   ]
  },
  {
   "cell_type": "code",
   "execution_count": 2,
   "metadata": {
    "collapsed": true
   },
   "outputs": [],
   "source": [
    " # Plot the activation of the latent neuron against the total angular momentum. The input data is of the same form as the training/validation data and the corresponding states\n",
    "def plot_state_neuron_wrt_angular_momentum(nn,data,data_states):\n",
    "    total_angular_momentum=edc.total_ang_mom(data_states[:,2],data_states[:,5])\n",
    "    out = nn.run(data, nn.mu, additional_params={})\n",
    "    f=plt.figure(figsize=(3.4, 2.1))\n",
    "    blue_color = '#000cff'\n",
    "    plt.scatter(total_angular_momentum,out.flatten(),1,color=blue_color)\n",
    "    plt.xlabel('Total angular momentum [kg$\\,$m$^2$/s]')\n",
    "    plt.ylabel('Activation latent neuron')\n",
    "    return f\n",
    "\n",
    "# Plot the 2D physical setting for the angular momentum conservation example. The data/data_states is of the same shape as the training or validation data/data_states.\n",
    "# The situation at the ith data sample is then plotted.\n",
    "def plot_physical_setting(nn,index,data,data_states):\n",
    "    vx_in=data_states[index,2]\n",
    "    w_in=data_states[index,5]\n",
    "    vx_out=data_states[index,6]\n",
    "    input1=data[0][index]\n",
    "    input2=data[1][index]\n",
    "    # Before the collision\n",
    "    input1=input1.flatten()\n",
    "    part=input1.size / 6\n",
    "    x_in_free=input1[0:part]\n",
    "    y_in_free = input1[part:2*part]\n",
    "    x_in_rot = input1[3*part:4*part]\n",
    "    y_in_rot = input1[4 *part:5*part]\n",
    "    # After collision\n",
    "    input2 = input2.flatten()\n",
    "    part = (input2.size-1)/3\n",
    "    x_out_free = input2[0:part]\n",
    "    y_out_free = input2[part:2*part]\n",
    "    # Correct position of rotating particle\n",
    "    times=np.linspace(0,4, num=4)\n",
    "    x_out_rot_correct=[]\n",
    "    y_out_rot_correct=[]\n",
    "    for i in range(len(times)):\n",
    "        x_out_rot_correct.append(edc.generate_output(times[i], vx_out, vx_in, w_in)[0])\n",
    "        y_out_rot_correct.append(edc.generate_output(times[i], vx_out, vx_in, w_in)[1])\n",
    "    # Predicted  position of rotating particle\n",
    "    x_out_rot_pred = []\n",
    "    y_out_rot_pred = []\n",
    "    data_modified=[data[0].copy(),data[1].copy(),data[2].copy()]\n",
    "    for i in range(len(times)):\n",
    "        data_modified[1][index][-1]=times[i]\n",
    "        output = nn.run(data_modified,nn.output)[index]\n",
    "        x_out_rot_pred.append(output[0])\n",
    "        y_out_rot_pred.append(output[1])\n",
    "    # Create plot\n",
    "    blue_color = '#000cff'\n",
    "    orange_color = '#ff7700'\n",
    "    f = plt.figure()\n",
    "    ax = plt.subplot(111)\n",
    "    plt.scatter(x_in_free, y_in_free,15, color=blue_color, marker='o',label='Incoming free particle')\n",
    "    plt.scatter(x_in_rot, y_in_rot,15, color=orange_color,marker='o', label='Incoming rotating particle')\n",
    "    plt.scatter(x_out_free,y_out_free,15, color=blue_color, marker='s', label='Outgoing free particle')\n",
    "    plt.scatter(x_out_rot_correct, y_out_rot_correct,50, color=orange_color, marker='s', label='Outgoing rotating particle')\n",
    "    plt.scatter(x_out_rot_pred, y_out_rot_pred, color='k', marker='x', label='Pedictions')\n",
    "    # Shrink current axis by 40%\n",
    "    box = ax.get_position()\n",
    "    ax.set_position([box.x0, box.y0, box.width * 0.6, box.height])\n",
    "    # Put a legend to the right of the current axis\n",
    "    ax.legend(loc='center left', bbox_to_anchor=(1, 0.5))\n",
    "    plt.xlabel('x [m]')\n",
    "    plt.ylabel('y [m]')\n",
    "    plt.title('Collision experiment and predictions of the NN')\n",
    "    plt.axis([-4,4 , -2, 6])\n",
    "    return f"
   ]
  },
  {
   "cell_type": "markdown",
   "metadata": {},
   "source": [
    "## Load pre-trained model\n",
    "\n",
    "### Parameters\n",
    "- `latent_size: 1` \n",
    "- `input_size: 30`\n",
    "- `input2_size: 16`\n",
    "- `output_size: 2`\n",
    "- `encoder_num_units: [150, 100]`\n",
    "- `decoder_num_units: [100, 150]`\n",
    "- other parameters: default values\n",
    "\n",
    "### Data\n",
    "-  The masses and the radius of the rotating particle are fixed. The others are varied under the restriction that the two particle will collide at (0,1). See the data generation file ``ed_collision`` for more details. \n",
    "- N_in1 = 5 time steps for observation input, N_inp2 = 5 time steps for question input\n",
    "- training data: 490000 samples\n",
    "- validation data: 10000 samples\n",
    "\n",
    "### Training\n",
    "- `epoch_num: 100`, `batch_size: 500`, `learning_rate: 5e-4`, `beta: 0.`\n",
    "- `epoch_num: 50`, `batch_size: 500`, `learning_rate: 1e-4`, `beta: 0.`"
   ]
  },
  {
   "cell_type": "code",
   "execution_count": 2,
   "metadata": {},
   "outputs": [
    {
     "name": "stdout",
     "output_type": "stream",
     "text": [
      "{'decoder_num_units': [100, 150], 'input2_size': 16, 'tot_epochs': 150, 'latent_size': 1, 'output_size': 2, 'encoder_num_units': [150, 100], 'input_size': 30, 'load_file': 'collision', 'name': 'collision'}\n",
      "INFO:tensorflow:Restoring parameters from /Users/raban/Documents/PHD/Teaching/Patrick (reading out equations)/nn_physical_concepts/tf_save/collision.ckpt\n",
      "Loaded network from file collision\n"
     ]
    }
   ],
   "source": [
    "net = nn.Network.from_saved('collision')"
   ]
  },
  {
   "cell_type": "code",
   "execution_count": 3,
   "metadata": {
    "collapsed": true
   },
   "outputs": [],
   "source": [
    "vd, vs, _ = edc.create_data(1, 5, 5);"
   ]
  },
  {
   "cell_type": "markdown",
   "metadata": {},
   "source": [
    "## Plots"
   ]
  },
  {
   "cell_type": "code",
   "execution_count": 5,
   "metadata": {},
   "outputs": [
    {
     "data": {
      "image/png": "[encoded data removed]",
      "text/plain": [
       "<matplotlib.figure.Figure at 0x11dc940d0>"
      ]
     },
     "metadata": {},
     "output_type": "display_data"
    }
   ],
   "source": [
    "fig1 = plot_physical_setting(net, 0, vd, vs)"
   ]
  },
  {
   "cell_type": "code",
   "execution_count": 6,
   "metadata": {},
   "outputs": [
    {
     "data": {
      "image/png": "[encoded data removed]",
      "text/plain": [
       "<matplotlib.figure.Figure at 0x1822d764d0>"
      ]
     },
     "metadata": {},
     "output_type": "display_data"
    }
   ],
   "source": [
    "fig2 = plot_state_neuron_wrt_angular_momentum(net, vd, vs)"
   ]
  },
  {
   "cell_type": "markdown",
   "metadata": {},
   "source": [
    "## Calculate reconstruction loss"
   ]
  },
  {
   "cell_type": "code",
   "execution_count": 7,
   "metadata": {},
   "outputs": [
    {
     "data": {
      "text/plain": [
       "0.09176538"
      ]
     },
     "execution_count": 7,
     "metadata": {},
     "output_type": "execute_result"
    }
   ],
   "source": [
    "np.sqrt(net.run(vd, net.recon_loss))"
   ]
  },
  {
   "cell_type": "markdown",
   "metadata": {
    "collapsed": true
   },
   "source": [
    "## Calculate derivative of latent neuron with respect to the input"
   ]
  },
  {
   "cell_type": "code",
   "execution_count": 6,
   "metadata": {
    "scrolled": true
   },
   "outputs": [
    {
     "data": {
      "text/plain": [
       "array([-2.202099  , -1.9994277 , -1.6728481 , -1.5120203 , -1.480278  ,\n",
       "        0.2042953 , -0.08662469, -0.22841597, -0.177281  , -0.3482374 ,\n",
       "       -0.55595666,  2.7355866 ,  2.3542287 ,  2.057496  ,  2.0786693 ,\n",
       "        2.9937158 ,  1.2596759 ,  0.21084067,  0.06872684,  1.186117  ,\n",
       "       -0.33829752,  0.91044104,  1.333923  , -0.07992363, -0.8145194 ,\n",
       "       -0.76594967, -4.9044914 , -3.1775672 ,  0.5338595 ,  4.301209  ],\n",
       "      dtype=float32)"
      ]
     },
     "execution_count": 6,
     "metadata": {},
     "output_type": "execute_result"
    }
   ],
   "source": [
    "# Find the derivatives of the latent neuron with respect to all input variables\n",
    "net.get_latent_derivatives(vd)"
   ]
  },
  {
   "cell_type": "code",
   "execution_count": 8,
   "metadata": {},
   "outputs": [
    {
     "data": {
      "text/plain": [
       "[-2.1970272,\n",
       " -1.9931793,\n",
       " -1.66893,\n",
       " -1.5127659,\n",
       " -1.4674664,\n",
       " 0.19669533,\n",
       " -0.08583069,\n",
       " -0.22172928,\n",
       " -0.16450882,\n",
       " -0.34332275,\n",
       " -0.5543232,\n",
       " 2.7394295,\n",
       " 2.349615,\n",
       " 2.053976,\n",
       " 2.0825863,\n",
       " 2.9981136,\n",
       " 1.2683868,\n",
       " 0.20980835,\n",
       " 0.07510185,\n",
       " 1.1873245,\n",
       " -0.33259392,\n",
       " 0.91552734,\n",
       " 1.3375282,\n",
       " -0.07033348,\n",
       " -0.81181526,\n",
       " -0.76055527,\n",
       " -4.900694,\n",
       " -3.1733513,\n",
       " 0.5412102,\n",
       " 4.3058395]"
      ]
     },
     "execution_count": 8,
     "metadata": {},
     "output_type": "execute_result"
    }
   ],
   "source": [
    "# To check if the derivative it calculated properly, we compare it with the differential quotient \n",
    "# ToDo: Remove this in the final version.\n",
    "out=[]\n",
    "for direction in range(30):\n",
    "    l1 = net.run(vd, net.mu, additional_params={})\n",
    "    eps=10.**(-4)\n",
    "    vd[0][0][direction]+=eps\n",
    "    l2 = net.run(vd, net.mu, additional_params={})\n",
    "    #restore vd\n",
    "    vd[0][0][direction]-=eps\n",
    "    #Differential quotient\n",
    "    out.append(((l2-l1)/eps)[0][0])\n",
    "out"
   ]
  },
  {
   "cell_type": "code",
   "execution_count": 16,
   "metadata": {},
   "outputs": [],
   "source": [
    " # Plot the activation of the latent neuron against an an epsilon neighbourhood of the input variable with number\n",
    " # \"input_neuron_number\" at a point given by a data_sample (may help to gain intuition)\n",
    " # ToDo: Clear up or remove in the final version   \n",
    "def plot_state_neuron_wrt_input_variable(nn,data_sample,input_neuron_number):\n",
    "    eps_list = []\n",
    "    out = []\n",
    "    for eps in np.arange(-0.2,0.2,0.001):\n",
    "        eps_list.append(eps)\n",
    "        data_sample[0][0][input_neuron_number]+=eps\n",
    "        latent_activation = nn.run(data_sample, nn.mu, additional_params={})[0][0]\n",
    "        out.append(latent_activation)\n",
    "        data_sample[0][0][input_neuron_number]-=eps\n",
    "    f=plt.figure(figsize=(3.4, 2.1))\n",
    "    blue_color = '#000cff'\n",
    "    plt.scatter(eps_list,out,1,color=blue_color)\n",
    "    plt.xlabel('Distance from entry in the data sample')\n",
    "    plt.ylabel('Activation latent neuron')\n",
    "    return f"
   ]
  },
  {
   "cell_type": "code",
   "execution_count": 17,
   "metadata": {},
   "outputs": [
    {
     "data": {
      "image/png": "[encoded data removed]",
      "text/plain": [
       "<matplotlib.figure.Figure at 0x181558a8d0>"
      ]
     },
     "metadata": {},
     "output_type": "display_data"
    }
   ],
   "source": [
    "f=plot_state_neuron_wrt_input_variable(net,vd,0)"
   ]
  }
 ],
 "metadata": {
  "anaconda-cloud": {},
  "kernelspec": {
   "display_name": "Python [conda env:tensorFlow_qutip-env]",
   "language": "python",
   "name": "conda-env-tensorFlow_qutip-env-py"
  },
  "language_info": {
   "codemirror_mode": {
    "name": "ipython",
    "version": 2
   },
   "file_extension": ".py",
   "mimetype": "text/x-python",
   "name": "python",
   "nbconvert_exporter": "python",
   "pygments_lexer": "ipython2",
   "version": "2.7.14"
  }
 },
 "nbformat": 4,
 "nbformat_minor": 1
}
